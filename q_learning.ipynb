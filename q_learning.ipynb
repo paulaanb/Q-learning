{
  "nbformat": 4,
  "nbformat_minor": 0,
  "metadata": {
    "colab": {
      "provenance": [],
      "include_colab_link": true
    },
    "kernelspec": {
      "name": "python3",
      "display_name": "Python 3"
    },
    "language_info": {
      "name": "python"
    }
  },
  "cells": [
    {
      "cell_type": "markdown",
      "metadata": {
        "id": "view-in-github",
        "colab_type": "text"
      },
      "source": [
        "<a href=\"https://colab.research.google.com/github/paulaanb/Q-learning/blob/main/q_learning.ipynb\" target=\"_parent\"><img src=\"https://colab.research.google.com/assets/colab-badge.svg\" alt=\"Open In Colab\"/></a>"
      ]
    },
    {
      "cell_type": "markdown",
      "source": [
        "Se importan las bibliotecas necesarias, como Gym para el entorno de aprendizaje por refuerzo, NumPy para operaciones matriciales, Matplotlib para la visualización y otras utilidades."
      ],
      "metadata": {
        "id": "6M49YWEzNd9E"
      }
    },
    {
      "cell_type": "code",
      "execution_count": 1,
      "metadata": {
        "id": "Uq-zIjvnW9kw"
      },
      "outputs": [],
      "source": [
        "# Importamos las bibliotecas necesarias\n",
        "import gym\n",
        "import random\n",
        "import numpy as np\n",
        "import matplotlib.pyplot as plt\n",
        "from IPython.display import clear_output\n",
        "import time"
      ]
    },
    {
      "cell_type": "markdown",
      "source": [
        "Se crea el entorno Frozen Lake, un entorno clásico de aprendizaje por refuerzo donde un agente debe navegar un lago congelado para llegar al objetivo sin caer en agujeros. is_slippery=False se utiliza para desactivar el deslizamiento en el hielo.\n",
        "Se reinicia el entorno y se imprime su representación visual."
      ],
      "metadata": {
        "id": "ttkGoxOCNnRi"
      }
    },
    {
      "cell_type": "code",
      "source": [
        "# Inicializa el entorno Frozen Lake\n",
        "environment = gym.make(\"FrozenLake-v1\", is_slippery=False)\n",
        "environment.reset()\n",
        "environment.render()\n"
      ],
      "metadata": {
        "colab": {
          "base_uri": "https://localhost:8080/"
        },
        "id": "TUHhsnZaXPI8",
        "outputId": "28ef083f-8263-4e83-bfc9-8c9bbf23b8b2"
      },
      "execution_count": null,
      "outputs": [
        {
          "output_type": "stream",
          "name": "stderr",
          "text": [
            "/usr/local/lib/python3.10/dist-packages/gym/core.py:317: DeprecationWarning: \u001b[33mWARN: Initializing wrapper in old step API which returns one bool instead of two. It is recommended to set `new_step_api=True` to use new step API. This will be the default behaviour in future.\u001b[0m\n",
            "  deprecation(\n",
            "/usr/local/lib/python3.10/dist-packages/gym/wrappers/step_api_compatibility.py:39: DeprecationWarning: \u001b[33mWARN: Initializing environment in old step API which returns one bool instead of two. It is recommended to set `new_step_api=True` to use new step API. This will be the default behaviour in future.\u001b[0m\n",
            "  deprecation(\n"
          ]
        }
      ]
    },
    {
      "cell_type": "markdown",
      "source": [
        "Se obtienen el número de estados y acciones posibles en el entorno.\n",
        "Se inicializa la tabla Q con ceros, donde qtable[state, action] representa el valor de la acción para el estado dado."
      ],
      "metadata": {
        "id": "RE7qtq-cNvKf"
      }
    },
    {
      "cell_type": "code",
      "source": [
        "# Inicializa la tabla Q con ceros\n",
        "nb_states = environment.observation_space.n\n",
        "nb_actions = environment.action_space.n\n",
        "qtable = np.zeros((nb_states, nb_actions))\n",
        "\n",
        "\n"
      ],
      "metadata": {
        "id": "MsyOnfZMXX1l"
      },
      "execution_count": null,
      "outputs": []
    },
    {
      "cell_type": "markdown",
      "source": [
        "Se imprime la tabla Q inicial antes del entrenamiento.\n"
      ],
      "metadata": {
        "id": "yvKupu5KN36y"
      }
    },
    {
      "cell_type": "code",
      "source": [
        "# Visualiza la tabla Q inicial\n",
        "print('Q-table =')\n",
        "print(qtable)"
      ],
      "metadata": {
        "colab": {
          "base_uri": "https://localhost:8080/"
        },
        "id": "Tyob7IwydOL4",
        "outputId": "0de222dd-c817-4b59-9acf-f425280bdb58"
      },
      "execution_count": null,
      "outputs": [
        {
          "output_type": "stream",
          "name": "stdout",
          "text": [
            "Q-table =\n",
            "[[0. 0. 0. 0.]\n",
            " [0. 0. 0. 0.]\n",
            " [0. 0. 0. 0.]\n",
            " [0. 0. 0. 0.]\n",
            " [0. 0. 0. 0.]\n",
            " [0. 0. 0. 0.]\n",
            " [0. 0. 0. 0.]\n",
            " [0. 0. 0. 0.]\n",
            " [0. 0. 0. 0.]\n",
            " [0. 0. 0. 0.]\n",
            " [0. 0. 0. 0.]\n",
            " [0. 0. 0. 0.]\n",
            " [0. 0. 0. 0.]\n",
            " [0. 0. 0. 0.]\n",
            " [0. 0. 0. 0.]\n",
            " [0. 0. 0. 0.]]\n"
          ]
        }
      ]
    },
    {
      "cell_type": "markdown",
      "source": [
        "Se definen los hiperparámetros del algoritmo, como el número de episodios (episodes), la tasa de aprendizaje (alpha), y el factor de descuento (gamma)."
      ],
      "metadata": {
        "id": "U490T4yYN-lu"
      }
    },
    {
      "cell_type": "code",
      "source": [
        "# Hiperparámetros\n",
        "episodes = 1000\n",
        "alpha = 0.5\n",
        "gamma = 0.9"
      ],
      "metadata": {
        "id": "KcsKKTAqXj3N"
      },
      "execution_count": null,
      "outputs": []
    },
    {
      "cell_type": "code",
      "source": [
        "# Lista de resultados para graficar\n",
        "outcomes = []\n",
        "\n",
        "print('Q-table antes del entrenamiento:')\n",
        "print(qtable)"
      ],
      "metadata": {
        "colab": {
          "base_uri": "https://localhost:8080/"
        },
        "id": "RujQWfavZ6in",
        "outputId": "c3deb9e2-ca76-4b5d-e5ef-bd2ffcde585b"
      },
      "execution_count": null,
      "outputs": [
        {
          "output_type": "stream",
          "name": "stdout",
          "text": [
            "Q-table antes del entrenamiento:\n",
            "[[0. 0. 0. 0.]\n",
            " [0. 0. 0. 0.]\n",
            " [0. 0. 0. 0.]\n",
            " [0. 0. 0. 0.]\n",
            " [0. 0. 0. 0.]\n",
            " [0. 0. 0. 0.]\n",
            " [0. 0. 0. 0.]\n",
            " [0. 0. 0. 0.]\n",
            " [0. 0. 0. 0.]\n",
            " [0. 0. 0. 0.]\n",
            " [0. 0. 0. 0.]\n",
            " [0. 0. 0. 0.]\n",
            " [0. 0. 0. 0.]\n",
            " [0. 0. 0. 0.]\n",
            " [0. 0. 0. 0.]\n",
            " [0. 0. 0. 0.]]\n"
          ]
        }
      ]
    },
    {
      "cell_type": "markdown",
      "source": [
        "Se realiza el entrenamiento del agente a lo largo de múltiples episodios.\n",
        "En cada episodio, el agente toma acciones, actualiza la tabla Q y ajusta su comportamiento basándose en las recompensas obtenidas."
      ],
      "metadata": {
        "id": "DSoBAyq5OQ4T"
      }
    },
    {
      "cell_type": "code",
      "source": [
        "\n",
        "# Entrenamiento\n",
        "for _ in range(episodes):\n",
        "    state = environment.reset()\n",
        "    done = False\n",
        "    outcomes.append(\"Failure\")\n",
        "\n",
        "    while not done:\n",
        "        # Elige la acción con el valor más alto en el estado actual\n",
        "        if np.max(qtable[state]) > 0:\n",
        "            action = np.argmax(qtable[state])\n",
        "        # Si no hay una mejor acción (solo ceros), elige una aleatoria\n",
        "        else:\n",
        "            action = environment.action_space.sample()\n",
        "\n",
        "        # Implementa la acción y mueve al agente en la dirección deseada\n",
        "        new_state, reward, done, info = environment.step(action)\n",
        "\n",
        "        # Actualiza Q(s,a)\n",
        "        qtable[state, action] = qtable[state, action] + alpha * (\n",
        "            reward + gamma * np.max(qtable[new_state]) - qtable[state, action]\n",
        "        )\n",
        "\n",
        "        # Actualiza el estado actual\n",
        "        state = new_state\n",
        "\n",
        "        # Si hay una recompensa, significa que nuestro resultado es un éxito\n",
        "        if reward:\n",
        "            outcomes[-1] = \"Success\"\n",
        "\n",
        "print()\n",
        "print('===========================================')\n",
        "print('Q-table después del entrenamiento:')\n",
        "print(qtable)"
      ],
      "metadata": {
        "colab": {
          "base_uri": "https://localhost:8080/"
        },
        "id": "nR7Cgez8aGKa",
        "outputId": "be1f4123-d15f-4054-b1f6-20e943187122"
      },
      "execution_count": null,
      "outputs": [
        {
          "output_type": "stream",
          "name": "stdout",
          "text": [
            "\n",
            "===========================================\n",
            "Q-table después del entrenamiento:\n",
            "[[0.       0.59049  0.       0.      ]\n",
            " [0.       0.       0.       0.      ]\n",
            " [0.       0.       0.       0.      ]\n",
            " [0.       0.       0.       0.      ]\n",
            " [0.       0.6561   0.       0.      ]\n",
            " [0.       0.       0.       0.      ]\n",
            " [0.       0.253125 0.       0.      ]\n",
            " [0.       0.       0.       0.      ]\n",
            " [0.       0.       0.729    0.      ]\n",
            " [0.       0.       0.81     0.      ]\n",
            " [0.       0.9      0.       0.      ]\n",
            " [0.       0.       0.       0.      ]\n",
            " [0.       0.       0.       0.      ]\n",
            " [0.       0.       0.225    0.      ]\n",
            " [0.       0.       1.       0.      ]\n",
            " [0.       0.       0.       0.      ]]\n"
          ]
        }
      ]
    },
    {
      "cell_type": "markdown",
      "source": [
        "Se utiliza Matplotlib para crear un gráfico de barras que muestra los resultados de cada episodio (éxito o fracaso)."
      ],
      "metadata": {
        "id": "cvoGVo1oOZ0D"
      }
    },
    {
      "cell_type": "code",
      "source": [
        "# Graficar resultados\n",
        "plt.figure(figsize=(12, 5))\n",
        "plt.xlabel(\"Número de ejecución\")\n",
        "plt.ylabel(\"Resultado\")\n",
        "ax = plt.gca()\n",
        "plt.bar(range(len(outcomes)), outcomes, width=1.0)\n",
        "plt.show()"
      ],
      "metadata": {
        "colab": {
          "base_uri": "https://localhost:8080/",
          "height": 407
        },
        "id": "pYJpactaauar",
        "outputId": "6a93a86e-0fce-47b1-f26e-24cef6801d4a"
      },
      "execution_count": null,
      "outputs": [
        {
          "output_type": "display_data",
          "data": {
            "text/plain": [
              "<Figure size 1200x500 with 1 Axes>"
            ],
            "image/png": "[encoded data removed]"
          },
          "metadata": {}
        }
      ]
    },
    {
      "cell_type": "markdown",
      "source": [
        "Se evalúa el desempeño del agente después del entrenamiento en un número adicional de episodios."
      ],
      "metadata": {
        "id": "J4KQpXUdOfT_"
      }
    },
    {
      "cell_type": "code",
      "source": [
        "# Evaluación\n",
        "episodes_eval = 100\n",
        "success_count = 0\n",
        "\n",
        "for _ in range(episodes_eval):\n",
        "    state = environment.reset()\n",
        "    done = False\n",
        "\n",
        "    while not done:\n",
        "        # Elige la acción con el valor más alto en el estado actual\n",
        "        action = np.argmax(qtable[state])\n",
        "\n",
        "        # Implementa la acción y mueve al agente en la dirección deseada\n",
        "        new_state, reward, done, info = environment.step(action)\n",
        "\n",
        "        # Actualiza el estado actual\n",
        "        state = new_state\n",
        "\n",
        "        # Cuando obtenemos una recompensa, significa que hemos resuelto el juego\n",
        "        success_count += reward"
      ],
      "metadata": {
        "id": "ooC8aKAaaxyC"
      },
      "execution_count": null,
      "outputs": []
    },
    {
      "cell_type": "markdown",
      "source": [
        "Se calcula y muestra la tasa de éxito del agente, que representa el porcentaje de episodios en los que el agente alcanzó el objetivo después del entrenamiento"
      ],
      "metadata": {
        "id": "0zSLerCsOklR"
      }
    },
    {
      "cell_type": "code",
      "source": [
        "# Verificar la tasa de éxito\n",
        "success_rate = success_count / episodes_eval * 100\n",
        "print(f\"Tasa de éxito = {success_rate}%\")\n"
      ],
      "metadata": {
        "colab": {
          "base_uri": "https://localhost:8080/"
        },
        "id": "sOO5LWVBbAvl",
        "outputId": "49552df3-8931-4b2b-dc9b-19d5598db899"
      },
      "execution_count": null,
      "outputs": [
        {
          "output_type": "stream",
          "name": "stdout",
          "text": [
            "Tasa de éxito = 100.0%\n"
          ]
        }
      ]
    },
    {
      "cell_type": "markdown",
      "source": [],
      "metadata": {
        "id": "3W5loifEe1L_"
      }
    },
    {
      "cell_type": "markdown",
      "source": [
        "**Algoritmo Epsilon-Greedy**"
      ],
      "metadata": {
        "id": "qQcxq_52e1M6"
      }
    },
    {
      "cell_type": "markdown",
      "source": [
        "Se crea el entorno Frozen Lake sin resbalones (is_slippery=False) y se inicializa la tabla Q con ceros. La tabla Q representa los valores de acción estimados para cada estado y acción posible."
      ],
      "metadata": {
        "id": "5NffFzWtfjtC"
      }
    },
    {
      "cell_type": "code",
      "source": [
        "# Inicializar el entorno Frozen Lake resbaladizo\n",
        "environment = gym.make(\"FrozenLake-v1\", is_slippery=False)\n",
        "environment.reset()\n"
      ],
      "metadata": {
        "colab": {
          "base_uri": "https://localhost:8080/"
        },
        "id": "xiUewq2ofA8X",
        "outputId": "8e70d7e5-7963-4777-f75a-25574adef1b9"
      },
      "execution_count": null,
      "outputs": [
        {
          "output_type": "execute_result",
          "data": {
            "text/plain": [
              "0"
            ]
          },
          "metadata": {},
          "execution_count": 33
        }
      ]
    },
    {
      "cell_type": "code",
      "source": [
        "# Inicializar la tabla Q\n",
        "qtable = np.zeros((environment.observation_space.n, environment.action_space.n))\n"
      ],
      "metadata": {
        "id": "R1D-f79kfvA5"
      },
      "execution_count": null,
      "outputs": []
    },
    {
      "cell_type": "code",
      "source": [
        "# Hiperparámetros\n",
        "episodios = 1000        # Número total de episodios\n",
        "alpha = 0.5             # Tasa de aprendizaje\n",
        "gamma = 0.9             # Factor de descuento\n",
        "epsilon = 1.0           # Cantidad de aleatoriedad en la selección de acciones\n",
        "epsilon_decay = 0.001   # Cantidad fija para disminuir epsilon"
      ],
      "metadata": {
        "id": "pOPHfVVYfwrm"
      },
      "execution_count": null,
      "outputs": []
    },
    {
      "cell_type": "code",
      "source": [
        "# Lista de resultados para graficar\n",
        "resultados = []\n",
        "\n",
        "print('Tabla Q antes del entrenamiento:')\n",
        "print(qtable)"
      ],
      "metadata": {
        "colab": {
          "base_uri": "https://localhost:8080/"
        },
        "id": "77obhfQlf2XJ",
        "outputId": "cfe14f12-b0e9-4867-f905-33a9d8f567f2"
      },
      "execution_count": null,
      "outputs": [
        {
          "output_type": "stream",
          "name": "stdout",
          "text": [
            "Tabla Q antes del entrenamiento:\n",
            "[[0. 0. 0. 0.]\n",
            " [0. 0. 0. 0.]\n",
            " [0. 0. 0. 0.]\n",
            " [0. 0. 0. 0.]\n",
            " [0. 0. 0. 0.]\n",
            " [0. 0. 0. 0.]\n",
            " [0. 0. 0. 0.]\n",
            " [0. 0. 0. 0.]\n",
            " [0. 0. 0. 0.]\n",
            " [0. 0. 0. 0.]\n",
            " [0. 0. 0. 0.]\n",
            " [0. 0. 0. 0.]\n",
            " [0. 0. 0. 0.]\n",
            " [0. 0. 0. 0.]\n",
            " [0. 0. 0. 0.]\n",
            " [0. 0. 0. 0.]]\n"
          ]
        }
      ]
    },
    {
      "cell_type": "markdown",
      "source": [
        "En cada episodio, el agente elige una acción utilizando la política epsilon-greedy.\n",
        "Se actualiza la tabla Q utilizando la ecuación de actualización de Q, que incorpora la recompensa inmediata y la estimación del valor futuro."
      ],
      "metadata": {
        "id": "52KBzEX6f8iU"
      }
    },
    {
      "cell_type": "code",
      "source": [
        "\n",
        "# Entrenamiento\n",
        "for _ in range(episodios):\n",
        "    state = environment.reset()\n",
        "    done = False\n",
        "\n",
        "    # Por defecto, consideramos que el resultado es un fracaso\n",
        "    resultados.append(\"Fracaso\")\n",
        "\n",
        "    # Hasta que el agente quede atrapado en un hoyo o alcance la meta, seguir entrenándolo\n",
        "    while not done:\n",
        "        # Generar un número aleatorio entre 0 y 1\n",
        "        rnd = np.random.random()\n",
        "\n",
        "        # Si el número aleatorio < epsilon, tomar una acción aleatoria\n",
        "        if rnd < epsilon:\n",
        "            action = environment.action_space.sample()\n",
        "        # De lo contrario, tomar la acción con el valor más alto en el estado actual\n",
        "        else:\n",
        "            action = np.argmax(qtable[state])\n",
        "\n",
        "        # Implementar esta acción y mover al agente en la dirección deseada\n",
        "        new_state, reward, done, info = environment.step(action)\n",
        "\n",
        "        # Actualizar Q(s,a) utilizando la ecuación de actualización de Q\n",
        "        qtable[state, action] = qtable[state, action] + \\\n",
        "                                alpha * (reward + gamma * np.max(qtable[new_state]) - qtable[state, action])\n",
        "\n",
        "        # Actualizar nuestro estado actual\n",
        "        state = new_state\n",
        "\n",
        "        # Si hay recompensa, significa que nuestro resultado es un éxito\n",
        "        if done and reward:\n",
        "            resultados[-1] = \"Éxito\"\n",
        "\n",
        "    # Actualizar epsilon\n",
        "    epsilon = max(epsilon - epsilon_decay, 0)\n",
        "\n",
        "print()\n",
        "print('===========================================')\n",
        "print('Tabla Q después del entrenamiento:')\n",
        "print(qtable)\n"
      ],
      "metadata": {
        "colab": {
          "base_uri": "https://localhost:8080/"
        },
        "id": "CUvNOZ4Df6NY",
        "outputId": "1f78bc44-82d7-462e-9cf7-1011f0db068b"
      },
      "execution_count": null,
      "outputs": [
        {
          "output_type": "stream",
          "name": "stdout",
          "text": [
            "\n",
            "===========================================\n",
            "Tabla Q después del entrenamiento:\n",
            "[[0.531441   0.59049    0.59049    0.531441  ]\n",
            " [0.531441   0.         0.6561     0.59049   ]\n",
            " [0.59049    0.729      0.59049    0.6561    ]\n",
            " [0.6561     0.         0.59015556 0.58924497]\n",
            " [0.59048102 0.6561     0.         0.531441  ]\n",
            " [0.         0.         0.         0.        ]\n",
            " [0.         0.81       0.         0.6561    ]\n",
            " [0.         0.         0.         0.        ]\n",
            " [0.6561     0.         0.729      0.59049   ]\n",
            " [0.65609998 0.80999998 0.81       0.        ]\n",
            " [0.729      0.9        0.         0.729     ]\n",
            " [0.         0.         0.         0.        ]\n",
            " [0.         0.         0.         0.        ]\n",
            " [0.         0.80998129 0.9        0.72880837]\n",
            " [0.81       0.9        1.         0.81      ]\n",
            " [0.         0.         0.         0.        ]]\n"
          ]
        }
      ]
    },
    {
      "cell_type": "code",
      "source": [
        "# Graficar resultados\n",
        "plt.figure(figsize=(12, 5))\n",
        "plt.xlabel(\"Número de ejecución\")\n",
        "plt.ylabel(\"Resultado\")\n",
        "ax = plt.gca()\n",
        "plt.bar(range(len(resultados)), resultados, width=1.0)\n",
        "plt.show()"
      ],
      "metadata": {
        "colab": {
          "base_uri": "https://localhost:8080/",
          "height": 407
        },
        "id": "IHuDkdF_f9ui",
        "outputId": "37a7e802-cb88-43ae-ae29-812f38a2e9f7"
      },
      "execution_count": null,
      "outputs": [
        {
          "output_type": "display_data",
          "data": {
            "text/plain": [
              "<Figure size 1200x500 with 1 Axes>"
            ],
            "image/png": "[encoded data removed]"
          },
          "metadata": {}
        }
      ]
    },
    {
      "cell_type": "markdown",
      "source": [
        "El agente realiza acciones utilizando la política óptima aprendida y se evalúa su desempeño."
      ],
      "metadata": {
        "id": "9zBTN77XgDlG"
      }
    },
    {
      "cell_type": "code",
      "source": [
        "# Evaluación\n",
        "episodios_evaluacion = 100\n",
        "conteo_exitos = 0\n",
        "\n",
        "for _ in range(episodios_evaluacion):\n",
        "    state = environment.reset()\n",
        "    done = False\n",
        "\n",
        "    # Hasta que el agente quede atrapado o alcance la meta, seguir evaluándolo\n",
        "    while not done:\n",
        "        # Elegir la acción con el valor más alto en el estado actual\n",
        "        action = np.argmax(qtable[state])\n",
        "\n",
        "        # Implementar esta acción y mover al agente en la dirección deseada\n",
        "        new_state, reward, done, info = environment.step(action)\n",
        "\n",
        "        # Actualizar nuestro estado actual\n",
        "        state = new_state\n",
        "\n",
        "    # Cuando llegamos a la meta, incrementar el conteo de éxitos\n",
        "    if reward == 1:\n",
        "        conteo_exitos += reward\n"
      ],
      "metadata": {
        "id": "ISH_zzlkgDN7"
      },
      "execution_count": null,
      "outputs": []
    },
    {
      "cell_type": "code",
      "source": [
        "# Verificar nuestra tasa de éxito\n",
        "tasa_exito = conteo_exitos / episodios_evaluacion * 100\n",
        "print(f\"Tasa de éxito = {tasa_exito}%\")"
      ],
      "metadata": {
        "colab": {
          "base_uri": "https://localhost:8080/"
        },
        "id": "rw9CxhUVgFhJ",
        "outputId": "76998e75-08d4-464c-ce24-9aa701c27ca4"
      },
      "execution_count": null,
      "outputs": [
        {
          "output_type": "stream",
          "name": "stdout",
          "text": [
            "Tasa de éxito = 100.0%\n"
          ]
        }
      ]
    },
    {
      "cell_type": "markdown",
      "source": [
        "Este código implementa el algoritmo Epsilon-Greedy para el aprendizaje por refuerzo en el entorno Frozen Lake. La política epsilon-greedy equilibra la exploración (acciones aleatorias) con la explotación (acciones basadas en el conocimiento actual). La tabla Q se actualiza a medida que el agente explora y aprende de su experiencia. La evaluación final mide la tasa de éxito del agente después del entrenamiento."
      ],
      "metadata": {
        "id": "0_WNtt1YgMgL"
      }
    },
    {
      "cell_type": "markdown",
      "source": [
        " **Desafío: lago helado resbaladizo**"
      ],
      "metadata": {
        "id": "uVNvDE85iaVf"
      }
    },
    {
      "cell_type": "markdown",
      "source": [
        "Se crea el entorno Frozen Lake con hielo resbaladizo y se inicializa la tabla Q con ceros."
      ],
      "metadata": {
        "id": "APDzcHydiuRZ"
      }
    },
    {
      "cell_type": "code",
      "source": [
        "# Inicializar el lago con hielo resbaladizo\n",
        "entorno = gym.make(\"FrozenLake-v1\", is_slippery=True)\n",
        "entorno.reset()\n"
      ],
      "metadata": {
        "colab": {
          "base_uri": "https://localhost:8080/"
        },
        "id": "t_lKv1slic8e",
        "outputId": "630cd4ff-8d64-43f5-c9fd-de76dd4c8f82"
      },
      "execution_count": null,
      "outputs": [
        {
          "output_type": "execute_result",
          "data": {
            "text/plain": [
              "0"
            ]
          },
          "metadata": {},
          "execution_count": 93
        }
      ]
    },
    {
      "cell_type": "code",
      "source": [
        "# Inicializar la tabla Q\n",
        "tabla_q = np.zeros((entorno.observation_space.n, entorno.action_space.n))"
      ],
      "metadata": {
        "id": "ix1-JI3PihM-"
      },
      "execution_count": null,
      "outputs": []
    },
    {
      "cell_type": "markdown",
      "source": [
        "Se definen los parámetros importantes del algoritmo"
      ],
      "metadata": {
        "id": "yglc1fPHi0Di"
      }
    },
    {
      "cell_type": "code",
      "source": [
        "\n",
        "# Hiperparámetros\n",
        "episodios = 5000        # Aumentamos el número de episodios\n",
        "alfa = 0.1              # Incrementamos la tasa de aprendizaje\n",
        "gamma = 0.95            # Incrementamos el factor de descuento\n",
        "epsilon = 1.0           # Cantidad de aleatoriedad en la selección de acciones\n",
        "epsilon_decaimiento = 0.0005  # Ajustamos la tasa de decaimiento\n",
        "\n"
      ],
      "metadata": {
        "id": "8C9fL6MUiiRs"
      },
      "execution_count": null,
      "outputs": []
    },
    {
      "cell_type": "code",
      "source": [
        "# Lista de resultados para graficar\n",
        "resultados = []\n",
        "\n",
        "print('Tabla Q antes del entrenamiento:')\n",
        "print(tabla_q)\n",
        "\n"
      ],
      "metadata": {
        "colab": {
          "base_uri": "https://localhost:8080/"
        },
        "id": "Pi5oZvM6im2r",
        "outputId": "6dbd5455-19c8-4089-a1f7-dfa5320ee5df"
      },
      "execution_count": null,
      "outputs": [
        {
          "output_type": "stream",
          "name": "stdout",
          "text": [
            "Tabla Q antes del entrenamiento:\n",
            "[[0. 0. 0. 0.]\n",
            " [0. 0. 0. 0.]\n",
            " [0. 0. 0. 0.]\n",
            " [0. 0. 0. 0.]\n",
            " [0. 0. 0. 0.]\n",
            " [0. 0. 0. 0.]\n",
            " [0. 0. 0. 0.]\n",
            " [0. 0. 0. 0.]\n",
            " [0. 0. 0. 0.]\n",
            " [0. 0. 0. 0.]\n",
            " [0. 0. 0. 0.]\n",
            " [0. 0. 0. 0.]\n",
            " [0. 0. 0. 0.]\n",
            " [0. 0. 0. 0.]\n",
            " [0. 0. 0. 0.]\n",
            " [0. 0. 0. 0.]]\n"
          ]
        }
      ]
    },
    {
      "cell_type": "markdown",
      "source": [
        "Se realiza el entrenamiento del agente mediante Q-learning utilizando la estrategia epsilon-greedy para la selección de acciones"
      ],
      "metadata": {
        "id": "PfKm4u_pi6Ua"
      }
    },
    {
      "cell_type": "code",
      "source": [
        "# Entrenamiento\n",
        "for episodio in range(episodios):\n",
        "    estado = entorno.reset()\n",
        "    hecho = False\n",
        "\n",
        "    # Por defecto, consideramos que el resultado es un fracaso\n",
        "    resultados.append(\"Fracaso\")\n",
        "\n",
        "    # Hasta que el agente quede atrapado en un agujero o alcance la meta, seguir entrenándolo\n",
        "    while not hecho:\n",
        "        # Generar un número aleatorio entre 0 y 1\n",
        "        rnd = np.random.random()\n",
        "\n",
        "        # Si el número aleatorio < epsilon, tomar una acción aleatoria\n",
        "        if rnd < epsilon:\n",
        "            accion = entorno.action_space.sample()\n",
        "        # De lo contrario, tomar la acción con el valor más alto en el estado actual\n",
        "        else:\n",
        "            accion = np.argmax(tabla_q[estado])\n",
        "\n",
        "        # Implementar esta acción y mover al agente en la dirección deseada\n",
        "        nuevo_estado, recompensa, hecho, info = entorno.step(accion)\n",
        "\n",
        "        # Actualizar Q(s,a)\n",
        "        tabla_q[estado, accion] = tabla_q[estado, accion] + \\\n",
        "                                  alfa * (recompensa + gamma * np.max(tabla_q[nuevo_estado]) - tabla_q[estado, accion])\n",
        "\n",
        "        # Actualizar nuestro estado actual\n",
        "        estado = nuevo_estado\n",
        "\n",
        "        # Si obtenemos una recompensa, significa que nuestro resultado es un éxito\n",
        "        if recompensa:\n",
        "            resultados[-1] = \"Éxito\"\n",
        "\n",
        "    # Actualizar epsilon\n",
        "    epsilon = max(epsilon - epsilon_decaimiento, 0)\n",
        "\n",
        "print()\n",
        "print('===========================================')\n",
        "print('Tabla Q después del entrenamiento:')\n",
        "print(tabla_q)\n",
        "\n"
      ],
      "metadata": {
        "colab": {
          "base_uri": "https://localhost:8080/"
        },
        "id": "f_xWyYpyipt7",
        "outputId": "224d0b91-6e24-49d4-d21a-b00e05ebe8e9"
      },
      "execution_count": null,
      "outputs": [
        {
          "output_type": "stream",
          "name": "stdout",
          "text": [
            "\n",
            "===========================================\n",
            "Tabla Q después del entrenamiento:\n",
            "[[0.18331211 0.12005615 0.11929526 0.11971206]\n",
            " [0.08577006 0.08596751 0.09404221 0.16248164]\n",
            " [0.15956918 0.10434342 0.10354125 0.10440818]\n",
            " [0.0528644  0.05260685 0.04525014 0.10574522]\n",
            " [0.20766301 0.1283975  0.12401915 0.08934119]\n",
            " [0.         0.         0.         0.        ]\n",
            " [0.21733761 0.04829102 0.05159734 0.02614701]\n",
            " [0.         0.         0.         0.        ]\n",
            " [0.14505879 0.15766189 0.17643647 0.26976912]\n",
            " [0.22058992 0.38739797 0.19532561 0.18759113]\n",
            " [0.51089754 0.2065608  0.20822296 0.16539714]\n",
            " [0.         0.         0.         0.        ]\n",
            " [0.         0.         0.         0.        ]\n",
            " [0.25549628 0.34272942 0.52077267 0.33480112]\n",
            " [0.46195671 0.71527955 0.5052737  0.49890732]\n",
            " [0.         0.         0.         0.        ]]\n"
          ]
        }
      ]
    },
    {
      "cell_type": "markdown",
      "source": [
        "Se utiliza Matplotlib para crear un gráfico de barras que muestra los resultados de cada episodio (éxito o fracaso)"
      ],
      "metadata": {
        "id": "mFPtwBG_jAC8"
      }
    },
    {
      "cell_type": "code",
      "source": [
        "# Graficar resultados\n",
        "plt.figure(figsize=(12, 5))\n",
        "plt.xlabel(\"Número de ejecución\")\n",
        "plt.ylabel(\"Resultado\")\n",
        "ax = plt.gca()\n",
        "plt.bar(range(len(resultados)), resultados, width=1.0)\n",
        "plt.show()\n"
      ],
      "metadata": {
        "colab": {
          "base_uri": "https://localhost:8080/",
          "height": 407
        },
        "id": "yWk5zT-hitnA",
        "outputId": "fb7607f4-0fa3-465f-ce60-7ebe075a0fa1"
      },
      "execution_count": null,
      "outputs": [
        {
          "output_type": "display_data",
          "data": {
            "text/plain": [
              "<Figure size 1200x500 with 1 Axes>"
            ],
            "image/png": "[encoded data removed]"
          },
          "metadata": {}
        }
      ]
    },
    {
      "cell_type": "markdown",
      "source": [
        "Se evalúa el desempeño del agente después del entrenamiento en un conjunto separado de episodios"
      ],
      "metadata": {
        "id": "VEbcO8bJjEOJ"
      }
    },
    {
      "cell_type": "code",
      "source": [
        "\n",
        "# Evaluación\n",
        "episodios_evaluacion = 100\n",
        "num_exitos = 0\n",
        "\n",
        "for _ in range(episodios_evaluacion):\n",
        "    estado = entorno.reset()\n",
        "    hecho = False\n",
        "\n",
        "    # Hasta que el agente quede atrapado o alcance la meta, seguir entrenándolo\n",
        "    while not hecho:\n",
        "        # Elegir la acción con el valor más alto en el estado actual\n",
        "        accion = np.argmax(tabla_q[estado])\n",
        "\n",
        "        # Implementar esta acción y mover al agente en la dirección deseada\n",
        "        nuevo_estado, recompensa, hecho, info = entorno.step(accion)\n",
        "\n",
        "        # Actualizar nuestro estado actual\n",
        "        estado = nuevo_estado\n",
        "\n",
        "        # Cuando obtenemos una recompensa, significa que resolvimos el juego\n",
        "        num_exitos += recompensa"
      ],
      "metadata": {
        "id": "WmYXi9QAixs0"
      },
      "execution_count": null,
      "outputs": []
    },
    {
      "cell_type": "markdown",
      "source": [
        "Se calcula y muestra la tasa de éxito del agente en la evaluación"
      ],
      "metadata": {
        "id": "Hu9LZ18fjFlk"
      }
    },
    {
      "cell_type": "code",
      "source": [
        "\n",
        "# Verificar nuestra tasa de éxito\n",
        "tasa_exito = num_exitos / episodios_evaluacion * 100\n",
        "print(f\"Tasa de éxito = {tasa_exito}%\")"
      ],
      "metadata": {
        "colab": {
          "base_uri": "https://localhost:8080/"
        },
        "id": "_6XozT3Di5hO",
        "outputId": "a84d17ea-c09a-40fb-94b1-bd64db38fe2c"
      },
      "execution_count": null,
      "outputs": [
        {
          "output_type": "stream",
          "name": "stdout",
          "text": [
            "Tasa de éxito = 78.0%\n"
          ]
        }
      ]
    },
    {
      "cell_type": "markdown",
      "source": [
        "**Decisiones tomadas y desafíos:**\n",
        "\n",
        "- Consideración del Hielo Resbaladizo (is_slippery=True):\n",
        "En este fragmento de código, se ha optado por emplear el entorno con hielo resbaladizo, lo que implica que las acciones ejecutadas pueden no producir los resultados anticipados debido al efecto del deslizamiento.\n",
        "\n",
        "- Ajustes en el Número de Episodios y Tasa de Aprendizaje:\n",
        "Se han realizado ajustes en dos parámetros críticos para el aprendizaje: el número de episodios se ha incrementado significativamente (episodios = 5000), lo que proporciona al agente más oportunidades de interactuar y aprender del entorno. Además, se ha aumentado la tasa de aprendizaje (alfa = 0.1) para favorecer un ajuste más rápido y receptivo de la tabla Q.\n",
        "\n",
        "- Dinámica de la Tasa de Exploración (Epsilon-Greedy):\n",
        "Se ha implementado una estrategia epsilon-greedy para gestionar el dilema entre exploración y explotación. La tasa de exploración (epsilon) disminuye con el tiempo, lo que implica que, a medida que el agente acumula conocimiento, se vuelve más propenso a explotar las acciones aprendidas y menos propenso a realizar exploraciones aleatorias. Este enfoque busca equilibrar la adquisición de información y la toma de decisiones informada durante el proceso de aprendizaje."
      ],
      "metadata": {
        "id": "qU17_PXnjIlk"
      }
    },
    {
      "cell_type": "markdown",
      "source": [
        "**Reflexiones sobre el aprendizaje por refuerzo:**\n",
        "- Balance entre Exploración y Explotación:\n",
        "La estrategia epsilon-greedy equilibra la exploración, permitiendo al agente descubrir nuevas acciones, y la explotación, donde utiliza su conocimiento actual para tomar decisiones informadas.\n",
        "- Proceso de Aprendizaje Incremental:\n",
        "En el aprendizaje por refuerzo, el agente experimenta un progreso gradual a medida que interactúa con el entorno, ajustando sus estrategias en función de las recompensas obtenidas.\n",
        "- Adaptabilidad y Superación de Complejidades:\n",
        "A diferencia de las soluciones basadas en condicionales if...else, el aprendizaje por refuerzo destaca por su capacidad para adaptarse a entornos complejos y dinámicos. En estos contextos, donde las reglas exactas pueden ser difíciles de predefinir, el aprendizaje por refuerzo demuestra ser más eficaz.\n",
        "- Desafíos Introducidos por el Hielo Resbaladizo:\n",
        "La inclusión de un componente de hielo resbaladizo agrega un nivel de incertidumbre, haciendo que la toma de decisiones sea aún más desafiante para el agente. Este factor incrementa la complejidad y la necesidad de estrategias adaptables."
      ],
      "metadata": {
        "id": "5iWjhCTtkHjl"
      }
    }
  ]
}